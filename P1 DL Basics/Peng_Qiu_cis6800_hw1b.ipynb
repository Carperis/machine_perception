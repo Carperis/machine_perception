{
  "cells": [
    {
      "cell_type": "markdown",
      "metadata": {
        "id": "_PGiTnKFFTNi",
        "pycharm": {
          "name": "#%% md\n"
        }
      },
      "source": [
        "# CIS6800: Project 1b: Deep Learning Basics Part B\n",
        "\n",
        "### Instructions:\n",
        "* This is an individual assignment. Collaborating with others is not permitted.\n",
        "* There is no single answer to most problems in deep learning, therefore the questions will often be underspecified. You need to fill in the blanks and submit a solution that solves the (practical) problem. Document the choices (hyperparameters, features, neural network architectures, etc.) you made where specified.\n",
        "* All the code should be written in Python. You should only use PyTorch to complete this project.\n",
        "* You are encouraged to use ChatGPT, but you need to make a summary of how you used it, and the code that you have copied from it.\n",
        "\n"
      ]
    },
    {
      "cell_type": "code",
      "execution_count": 25,
      "metadata": {
        "colab": {
          "base_uri": "https://localhost:8080/",
          "height": 0
        },
        "id": "Q41jvpsZFTNn",
        "outputId": "2078981a-0c06-4867-d83f-95b9fb321a65",
        "pycharm": {
          "is_executing": true,
          "name": "#%%\n"
        }
      },
      "outputs": [
        {
          "data": {
            "text/plain": [
              "Dataset MNIST\n",
              "    Number of datapoints: 60000\n",
              "    Root location: .\n",
              "    Split: Train"
            ]
          },
          "execution_count": 25,
          "metadata": {},
          "output_type": "execute_result"
        }
      ],
      "source": [
        "import torch\n",
        "from torch import nn\n",
        "import torchvision\n",
        "import matplotlib.pyplot as plt\n",
        "\n",
        "%matplotlib inline\n",
        "rng_seed = 45510\n",
        "\n",
        "# Download MNIST\n",
        "torchvision.datasets.MNIST('.', download=True)"
      ]
    },
    {
      "cell_type": "markdown",
      "metadata": {
        "id": "BxU8GMDlFTNo",
        "pycharm": {
          "name": "#%% md\n"
        }
      },
      "source": [
        "## 4. Adversarial Images (30%)\n",
        "In this part you will see how you can use the gradients of the network to generate adversarial\n",
        "images. Using these images that look almost identical the original you will be able to fool\n",
        "different neural networks. You will also see that these images also affect different neural\n",
        "networks and expose a security issue of CNNs that malicious users can take advantage of.\n",
        "An example is shown in Figure 4. You are encouraged to read the relevant papers [1, 2]\n",
        "before solving this part.\n",
        "\n",
        "<div><img src=\"https://github.com/LukasZhornyak/CIS680_files/raw/main/HW1/images/fig4.png\"/></div>\n",
        "\n",
        "<center>Figure 4: An adversarial example demonstrated in [1].</center>"
      ]
    },
    {
      "cell_type": "markdown",
      "metadata": {
        "id": "Ol1GPUaqFTNp"
      },
      "source": [
        "1. (10%) Use the trained network from question 3 to generate adversarial images with\n",
        "constraints. The constraints that you have are:\n",
        "\n",
        "  1. You are not allowed to erase parts of the image, i.e. $I_\\text{pert} \\ge I$ at each pixel location.\n",
        "  2. The perturbed image has to take valid values, i.e. $-1 \\le I_\\text{pert} \\le 1$.\n",
        "\n",
        "  The algorithm works as follows:\n",
        "  \n",
        "  1. Let $I$ be a test image of your dataset that you want to perturb that is classified correctly by the network. Let $I_\\epsilon$ be the perturbation that you should initialize\n",
        "with zeros.\n",
        "  2. Feed $I_\\text{pert} = I + I_\\epsilon$ in the network.\n",
        "  3. Calculate the loss given the ground truth label ($y_\\mathrm{gt}$). Let the loss be $L(x,y |\\theta)$ where $\\theta$ are the learned weights.\n",
        "  4. Compute the gradients with respect to $I_\\text{pert}$, i.e., $\\nabla_{I_\\text{pert}} L(I_\\text{pert}, y_\\mathrm{gt} | \\theta)$. Using backpropagation, compute $\\nabla_{I_\\epsilon} L(I_\\epsilon,y_\\mathrm{gt} | \\theta)$, i.e. the gradients with respect to the perturbation.\n",
        "  5. Use the Fast Gradient Sign method to update the perturbation, i.e., $I_\\epsilon = I_\\epsilon + \\epsilon\\,\\text{sign}(\\nabla_{I_\\epsilon} L(I_\\epsilon, y_\\mathrm{gt}))$, where $\\epsilon$ is a small constant of your choice.\n",
        "  6. Repeat A-D until the network classify the input image $I_\\text{pert}$ as an arbitrary\n",
        "wrong category with confidence (probability) at least $90\\%$.\n",
        "\n",
        "  Generate 2 examples of adversarial images. Describe the difference between the adversarial images and the original images."
      ]
    },
    {
      "cell_type": "code",
      "execution_count": 26,
      "metadata": {
        "colab": {
          "base_uri": "https://localhost:8080/",
          "height": 0
        },
        "id": "w4oRChtNFTNp",
        "outputId": "821d1698-42c0-4143-9ceb-ba9a56e44c5e",
        "tags": []
      },
      "outputs": [
        {
          "name": "stderr",
          "output_type": "stream",
          "text": [
            "<ipython-input-26-42715a6a161b>:39: FutureWarning: You are using `torch.load` with `weights_only=False` (the current default value), which uses the default pickle module implicitly. It is possible to construct malicious pickle data which will execute arbitrary code during unpickling (See https://github.com/pytorch/pytorch/blob/main/SECURITY.md#untrusted-models for more details). In a future release, the default value for `weights_only` will be flipped to `True`. This limits the functions that could be executed during unpickling. Arbitrary objects will no longer be allowed to be loaded via this mode unless they are explicitly allowlisted by the user via `torch.serialization.add_safe_globals`. We recommend you start setting `weights_only=True` for any use case where you don't have full control of the loaded file. Please open an issue on GitHub for any issues related to this experimental feature.\n",
            "  model.eval().load_state_dict(torch.load(model_path, map_location='cpu'))\n"
          ]
        },
        {
          "data": {
            "text/plain": [
              "<All keys matched successfully>"
            ]
          },
          "execution_count": 26,
          "metadata": {},
          "output_type": "execute_result"
        }
      ],
      "source": [
        "import torch.nn.functional as F\n",
        "\n",
        "# CUDA for PyTorch\n",
        "use_cuda = torch.cuda.is_available()\n",
        "device = torch.device(\"cuda:0\" if use_cuda else \"cpu\")\n",
        "\n",
        "# Create your network here (do not change this name)\n",
        "class DigitClassification(torch.nn.Module):\n",
        "    def __init__(self):\n",
        "        super(DigitClassification, self).__init__()\n",
        "\n",
        "        self.conv1 = nn.Conv2d(in_channels=1, out_channels=32, kernel_size=5, padding=\"same\")\n",
        "        self.bn1 = nn.BatchNorm2d(32)\n",
        "        self.pool1 = nn.AvgPool2d(kernel_size=2, stride=2, padding=0)\n",
        "        self.conv2 = nn.Conv2d(in_channels=32, out_channels=32, kernel_size=5, padding=\"same\")\n",
        "        self.bn2 = nn.BatchNorm2d(32)\n",
        "        self.pool2 = nn.AvgPool2d(kernel_size=2, stride=2, padding=0)\n",
        "        self.conv3 = nn.Conv2d(in_channels=32, out_channels=64, kernel_size=5, padding=\"same\")\n",
        "        self.bn3 = nn.BatchNorm2d(64)\n",
        "        self.pool3 = nn.AvgPool2d(kernel_size=2, stride=2, padding=0)\n",
        "        self.fc1 = nn.Linear(64 * 3 * 3, 64)\n",
        "        self.bn4 = nn.BatchNorm1d(64)\n",
        "        self.fc2 = nn.Linear(64, 10)\n",
        "\n",
        "    def forward(self, x):\n",
        "        x = F.relu(self.bn1(self.conv1(x)))\n",
        "        x = self.pool1(x)\n",
        "        x = F.relu(self.bn2(self.conv2(x)))\n",
        "        x = self.pool2(x)\n",
        "        x = F.relu(self.bn3(self.conv3(x)))\n",
        "        x = self.pool3(x)\n",
        "        x = torch.flatten(x, 1)\n",
        "        x = F.relu(self.bn4(self.fc1(x)))\n",
        "        x = F.log_softmax(self.fc2(x), dim=1)\n",
        "        return x\n",
        "\n",
        "# model_path = './model.pth'\n",
        "# model = DigitClassification()\n",
        "# model.eval().load_state_dict(torch.load(model_path, map_location='cpu'))"
      ]
    },
    {
      "cell_type": "code",
      "execution_count": 27,
      "metadata": {
        "colab": {
          "base_uri": "https://localhost:8080/",
          "height": 805
        },
        "id": "bpN5t009FTNq",
        "outputId": "57e3a701-097f-4033-ed6b-f8c96f12944d",
        "tags": []
      },
      "outputs": [
        {
          "data": {
            "image/png": "[encoded data removed]",
            "text/plain": [
              "<Figure size 1000x500 with 2 Axes>"
            ]
          },
          "metadata": {},
          "output_type": "display_data"
        },
        {
          "data": {
            "image/png": "[encoded data removed]",
            "text/plain": [
              "<Figure size 1000x500 with 2 Axes>"
            ]
          },
          "metadata": {},
          "output_type": "display_data"
        }
      ],
      "source": [
        "# don't change the signature of this function (image, image_pert -> [N, 1, H, W])\n",
        "def arbitrary_adversary(model, image, original_label):\n",
        "    epsilon = 0.007\n",
        "    confidence_threshold = 0.9\n",
        "    image_pert = image.clone().detach().requires_grad_(True)\n",
        "\n",
        "    while True:\n",
        "        output = model(image_pert)\n",
        "\n",
        "        probabilities = F.softmax(output, dim=1)\n",
        "        predicted_label = output.argmax(dim=1, keepdim=True).item()\n",
        "        confidence = probabilities[0, predicted_label].item()\n",
        "        # confidence = output[0, predicted_label].item()\n",
        "        if predicted_label != original_label and confidence >= confidence_threshold:\n",
        "            break\n",
        "\n",
        "        loss = F.nll_loss(output, torch.tensor([original_label]))\n",
        "        model.zero_grad()\n",
        "        loss.backward()\n",
        "\n",
        "        grad_sign = image_pert.grad.data.sign()\n",
        "        image_pert = image_pert + epsilon * grad_sign\n",
        "        image_pert = torch.clamp(image_pert, -1, 1)\n",
        "        image_pert = image_pert.detach()\n",
        "        image_pert.requires_grad = True\n",
        "\n",
        "    return image_pert\n",
        "\n",
        "# Display images\n",
        "def display_images(original_image, adversarial_image, original_label, adv_label, original_conf, adv_conf):\n",
        "    original_image_np = original_image.squeeze().detach().cpu().numpy()\n",
        "    adversarial_image_np = adversarial_image.squeeze().detach().cpu().numpy()\n",
        "    fig, axs = plt.subplots(1, 2, figsize=(10, 5))\n",
        "\n",
        "    axs[0].imshow(original_image_np, cmap='gray')\n",
        "    axs[0].set_title(f'Original Image - Label: {original_label}, Confidence: {original_conf:.2f}')\n",
        "    axs[0].axis('off')\n",
        "\n",
        "    axs[1].imshow(adversarial_image_np, cmap='gray')\n",
        "    axs[1].set_title(f'Adversarial Image - Label: {adv_label}, Confidence: {adv_conf:.2f}')\n",
        "    axs[1].axis('off')\n",
        "\n",
        "    plt.show()\n",
        "\n",
        "\n",
        "# transform = torchvision.transforms.Compose([\n",
        "#     torchvision.transforms.ToTensor(),\n",
        "#     torchvision.transforms.Normalize((0.5,), (0.5,))\n",
        "# ])\n",
        "# mnist_dataset = torchvision.datasets.MNIST('.', train=False, download=True, transform=transform)\n",
        "# dataloader = torch.utils.data.DataLoader(mnist_dataset, batch_size=1, shuffle=True)\n",
        "\n",
        "# images = []\n",
        "# labels = []\n",
        "# for image, label in dataloader:\n",
        "#     images.append(image)\n",
        "#     labels.append(label)\n",
        "#     if len(images) == 2:\n",
        "#         break\n",
        "\n",
        "# for i in range(len(images)):\n",
        "#     original_image = images[i]\n",
        "#     original_label = labels[i].item()\n",
        "#     adversarial_image = arbitrary_adversary(model, original_image, original_label)\n",
        "\n",
        "#     adv_output = model(adversarial_image)\n",
        "#     adv_label = adv_output.max(1, keepdim=True)[1].item()\n",
        "#     adv_conf = F.softmax(adv_output, dim=1)[0, adv_label].item()\n",
        "#     # adv_conf = adv_output[0, adv_label].item()\n",
        "\n",
        "#     org_output = model(original_image)\n",
        "#     org_label = org_output.max(1, keepdim=True)[1].item()\n",
        "#     org_conf = F.softmax(org_output, dim=1)[0, org_label].item()\n",
        "#     # org_conf = org_output[0, org_label].item()\n",
        "\n",
        "#     display_images(original_image, adversarial_image, org_label, adv_label, org_conf, adv_conf)"
      ]
    },
    {
      "cell_type": "markdown",
      "metadata": {
        "id": "7VWGqbxNfsWU"
      },
      "source": [
        "MY ANSWER:\n",
        "\n",
        "The adversarial images appear nearly identical to the original ones, with only slight, barely noticeable changes. However, these subtle perturbations cause the model to misclassify the images with high confidence. For example, the original \"8\" is misclassified as a \"9\" and the original \"4\" is misclassified as a \"0\" despite the images looking very similar to the human eye."
      ]
    },
    {
      "cell_type": "markdown",
      "metadata": {
        "id": "zgJIt0UjFTNr"
      },
      "source": [
        "2. (10%) For a test image from the dataset, choose a target label yt that you want the network to classify your image as and compute a perturbed image. Note that this is different from what you are asked in part 1, because you want your network to believe that the image has a particular label, not just misclassify the image. You need to modify appropriately the loss function and then perform gradient descent as before. You should still use the constraints from part 1."
      ]
    },
    {
      "cell_type": "code",
      "execution_count": 29,
      "metadata": {
        "colab": {
          "base_uri": "https://localhost:8080/",
          "height": 839
        },
        "id": "NnHjmnq1FTNr",
        "outputId": "a5a9552c-9b3a-42b9-c882-653b2ebe1bf8",
        "tags": []
      },
      "outputs": [
        {
          "name": "stdout",
          "output_type": "stream",
          "text": [
            "Target label: 0\n"
          ]
        },
        {
          "data": {
            "image/png": "[encoded data removed]",
            "text/plain": [
              "<Figure size 1000x500 with 2 Axes>"
            ]
          },
          "metadata": {},
          "output_type": "display_data"
        },
        {
          "name": "stdout",
          "output_type": "stream",
          "text": [
            "Target label: 0\n"
          ]
        },
        {
          "data": {
            "image/png": "[encoded data removed]",
            "text/plain": [
              "<Figure size 1000x500 with 2 Axes>"
            ]
          },
          "metadata": {},
          "output_type": "display_data"
        }
      ],
      "source": [
        "# don't change the signature of this function (image, image_pert -> [N, 1, H, W])\n",
        "def targeted_adversary(model, image, target_label):\n",
        "    epsilon = 0.007\n",
        "    confidence_threshold = 0.9\n",
        "    image_pert = image.clone().detach().requires_grad_(True)\n",
        "\n",
        "    while True:\n",
        "        output = model(image_pert)\n",
        "\n",
        "        probabilities = F.softmax(output, dim=1)\n",
        "        predicted_label = output.argmax(dim=1, keepdim=True).item()\n",
        "        confidence = probabilities[0, target_label].item()\n",
        "        if predicted_label == target_label and confidence >= confidence_threshold:\n",
        "            break\n",
        "\n",
        "        loss = F.nll_loss(output, torch.tensor([target_label]))\n",
        "        model.zero_grad()\n",
        "        loss.backward()\n",
        "        grad_sign = image_pert.grad.data.sign()\n",
        "        image_pert = image_pert - epsilon * grad_sign\n",
        "        image_pert = torch.clamp(image_pert, -1, 1)\n",
        "        image_pert = image_pert.detach()\n",
        "        image_pert.requires_grad = True\n",
        "\n",
        "    return image_pert\n",
        "\n",
        "# Display images\n",
        "# images = []\n",
        "# labels = []\n",
        "# target_labels = [0,0]\n",
        "# for image, label in dataloader:\n",
        "#     images.append(image)\n",
        "#     labels.append(label)\n",
        "#     if len(images) == 2:\n",
        "#         break\n",
        "\n",
        "# for i in range(len(images)):\n",
        "#     original_image = images[i]\n",
        "#     target_label = target_labels[i]\n",
        "#     print(f\"Target label: {target_label}\")\n",
        "#     adversarial_image = targeted_adversary(model, original_image, target_label)\n",
        "\n",
        "#     adv_output = model(adversarial_image)\n",
        "#     adv_label = adv_output.max(1, keepdim=True)[1].item()\n",
        "#     adv_conf = F.softmax(adv_output, dim=1)[0, adv_label].item()\n",
        "\n",
        "#     org_output = model(original_image)\n",
        "#     org_label = org_output.max(1, keepdim=True)[1].item()\n",
        "#     org_conf = F.softmax(org_output, dim=1)[0, org_label].item()\n",
        "\n",
        "#     display_images(original_image, adversarial_image, org_label, adv_label, org_conf, adv_conf)"
      ]
    },
    {
      "cell_type": "markdown",
      "metadata": {
        "id": "MIW1jhNhFTNs"
      },
      "source": [
        "<!-- BEGIN QUESTION -->\n",
        "\n",
        "3. (10%) Retrain the network from the previous problem. Use some of the adversarial images you generated in parts (1) and (2) and feed them in the retrained network. What do you observe?"
      ]
    },
    {
      "cell_type": "markdown",
      "metadata": {
        "id": "bNx3E3qXFTNs"
      },
      "source": [
        "MY ANSWER\n",
        "\n",
        "Retraining the network using adversarial images generated from parts (1) and (2) strengthens the model's robustness against adversarial attacks. After incorporating these perturbed images into the training process, the model learns to better recognize and resist adversarial manipulations. When feeding the adversarial images into the retrained network, I found a significant reduction in the model's susceptibility to misclassification, as the network becomes more capable of correctly identifying even slightly altered inputs."
      ]
    },
    {
      "cell_type": "code",
      "execution_count": 7,
      "metadata": {
        "colab": {
          "base_uri": "https://localhost:8080/",
          "height": 0
        },
        "id": "Sbzhroq4FTNt",
        "outputId": "16fabc38-c25d-422d-a290-13c8e6116ed4",
        "tags": []
      },
      "outputs": [
        {
          "name": "stderr",
          "output_type": "stream",
          "text": [
            "<ipython-input-7-332bbc3cbe2e>:84: FutureWarning: You are using `torch.load` with `weights_only=False` (the current default value), which uses the default pickle module implicitly. It is possible to construct malicious pickle data which will execute arbitrary code during unpickling (See https://github.com/pytorch/pytorch/blob/main/SECURITY.md#untrusted-models for more details). In a future release, the default value for `weights_only` will be flipped to `True`. This limits the functions that could be executed during unpickling. Arbitrary objects will no longer be allowed to be loaded via this mode unless they are explicitly allowlisted by the user via `torch.serialization.add_safe_globals`. We recommend you start setting `weights_only=True` for any use case where you don't have full control of the loaded file. Please open an issue on GitHub for any issues related to this experimental feature.\n",
            "  original_model.eval().load_state_dict(torch.load(original_model_path, map_location='cpu'))\n"
          ]
        },
        {
          "name": "stdout",
          "output_type": "stream",
          "text": [
            "Train dataset size: 60000\n",
            "Test dataset size: 10000\n",
            "Adversarial train cache size: 60\n",
            "Adversarial test cache size: 10\n",
            "Epoch 1/10\n",
            "Train Loss: 2.2941, Train Accuracy: 15.05%\n",
            "Test Loss: 2.2947, Test Accuracy: 14.63%\n",
            "Epoch 2/10\n",
            "Train Loss: 2.2941, Train Accuracy: 14.97%\n",
            "Test Loss: 2.2947, Test Accuracy: 14.86%\n",
            "Epoch 3/10\n",
            "Train Loss: 2.2941, Train Accuracy: 15.04%\n",
            "Test Loss: 2.2945, Test Accuracy: 14.82%\n",
            "Epoch 4/10\n",
            "Train Loss: 2.2941, Train Accuracy: 14.99%\n",
            "Test Loss: 2.2944, Test Accuracy: 15.16%\n",
            "Epoch 5/10\n",
            "Train Loss: 2.2941, Train Accuracy: 14.95%\n",
            "Test Loss: 2.2946, Test Accuracy: 14.99%\n",
            "Epoch 6/10\n",
            "Train Loss: 2.2941, Train Accuracy: 14.99%\n",
            "Test Loss: 2.2946, Test Accuracy: 15.19%\n",
            "Epoch 7/10\n",
            "Train Loss: 2.2941, Train Accuracy: 15.05%\n",
            "Test Loss: 2.2947, Test Accuracy: 14.98%\n",
            "Epoch 8/10\n",
            "Train Loss: 2.2941, Train Accuracy: 15.04%\n",
            "Test Loss: 2.2944, Test Accuracy: 14.72%\n",
            "Epoch 9/10\n",
            "Train Loss: 2.2941, Train Accuracy: 14.88%\n",
            "Test Loss: 2.2947, Test Accuracy: 14.85%\n",
            "Epoch 10/10\n",
            "Train Loss: 2.2941, Train Accuracy: 15.00%\n",
            "Test Loss: 2.2944, Test Accuracy: 15.26%\n"
          ]
        }
      ],
      "source": [
        "# import torchvision.transforms as transforms\n",
        "# from torch.utils.data import DataLoader, Dataset\n",
        "# import torch.optim as optim\n",
        "# import random\n",
        "# import torch.nn.functional as F\n",
        "\n",
        "# # Function to generate adversarial example (no changes)\n",
        "# def generate_adversarial(model, image, original_label):\n",
        "#     epsilon = 0.007\n",
        "#     confidence_threshold = 0.9\n",
        "#     image_pert = image.clone().detach().requires_grad_(True)\n",
        "\n",
        "#     while True:\n",
        "#         output = model(image_pert)\n",
        "\n",
        "#         predicted_label = output.argmax(dim=1, keepdim=True).item()\n",
        "#         confidence = output[0, predicted_label].item()\n",
        "#         if predicted_label != original_label and confidence >= confidence_threshold:\n",
        "#             break\n",
        "\n",
        "#         loss = F.nll_loss(output, torch.tensor([original_label]))\n",
        "#         model.zero_grad()\n",
        "#         loss.backward()\n",
        "\n",
        "#         grad_sign = image_pert.grad.data.sign()\n",
        "#         image_pert = image_pert + epsilon * grad_sign\n",
        "#         image_pert = torch.clamp(image_pert, -1, 1)\n",
        "#         image_pert = image_pert.detach()\n",
        "#         image_pert.requires_grad = True\n",
        "\n",
        "#     return image_pert\n",
        "\n",
        "# # Precompute adversarial images for the dataset\n",
        "# def precompute_adversarial_dataset(original_dataset, model, adversarial_fraction=0.1):\n",
        "#     \"\"\"\n",
        "#     Precompute adversarial examples for a subset of the dataset and return a new dataset\n",
        "#     with both original and adversarial images.\n",
        "#     \"\"\"\n",
        "#     total_samples = len(original_dataset)\n",
        "#     num_adv_samples = int(adversarial_fraction * total_samples)\n",
        "\n",
        "#     # Randomly select indices for adversarial samples\n",
        "#     adversarial_indices = random.sample(range(total_samples), num_adv_samples)\n",
        "\n",
        "#     adversarial_cache = {}\n",
        "\n",
        "#     # Precompute adversarial examples\n",
        "#     for idx in adversarial_indices:\n",
        "#         image, label = original_dataset[idx]\n",
        "#         image = image.unsqueeze(0).to(device)  # Add batch dimension\n",
        "#         label = torch.tensor([label]).to(device)\n",
        "\n",
        "#         # Generate adversarial image\n",
        "#         adversarial_image = generate_adversarial(model, image, label)\n",
        "#         adversarial_image = adversarial_image.squeeze(0)  # Remove batch dimension\n",
        "\n",
        "#         # Store adversarial image in cache\n",
        "#         adversarial_cache[idx] = (adversarial_image, label.item())\n",
        "\n",
        "#     return adversarial_cache\n",
        "\n",
        "# # Custom dataset to load precomputed adversarial examples\n",
        "# class PrecomputedAdversarialDataset(Dataset):\n",
        "#     def __init__(self, original_dataset, adversarial_cache):\n",
        "#         self.original_dataset = original_dataset\n",
        "#         self.adversarial_cache = adversarial_cache\n",
        "\n",
        "#     def __len__(self):\n",
        "#         return len(self.original_dataset)\n",
        "\n",
        "#     def __getitem__(self, idx):\n",
        "#         # Return adversarial image if it exists in the cache, otherwise return the original image\n",
        "#         if idx in self.adversarial_cache:\n",
        "#             return self.adversarial_cache[idx]\n",
        "#         else:\n",
        "#             image, label = self.original_dataset[idx]\n",
        "#             return image, label\n",
        "\n",
        "# # Model setup and loading original model\n",
        "# original_model_path = \"./model.pth\"\n",
        "# retrained_model_path = \"./model_retrained.pth\"\n",
        "\n",
        "# original_model = DigitClassification()\n",
        "# original_model.eval().load_state_dict(torch.load(original_model_path, map_location='cpu'))\n",
        "# retrained_model = DigitClassification().to(device)\n",
        "\n",
        "# # Load the original MNIST dataset\n",
        "# transform = transforms.Compose([transforms.ToTensor(), transforms.Normalize((0.5,), (0.5,))])\n",
        "# train_dataset = torchvision.datasets.MNIST(root='.', train=True, download=True, transform=transform)\n",
        "# test_dataset = torchvision.datasets.MNIST(root='.', train=False, download=True, transform=transform)\n",
        "# print(\"Train dataset size:\", len(train_dataset))\n",
        "# print(\"Test dataset size:\", len(test_dataset))\n",
        "\n",
        "# # Precompute adversarial examples for 10% of the train and test datasets\n",
        "# adversarial_train_cache = precompute_adversarial_dataset(train_dataset, original_model, adversarial_fraction=0.001)\n",
        "# adversarial_test_cache = precompute_adversarial_dataset(test_dataset, original_model, adversarial_fraction=0.001)\n",
        "# print(\"Adversarial train cache size:\", len(adversarial_train_cache))\n",
        "# print(\"Adversarial test cache size:\", len(adversarial_test_cache))\n",
        "\n",
        "# # Create datasets with precomputed adversarial examples\n",
        "# adversarial_train_dataset = PrecomputedAdversarialDataset(train_dataset, adversarial_train_cache)\n",
        "# adversarial_test_dataset = PrecomputedAdversarialDataset(test_dataset, adversarial_test_cache)\n",
        "\n",
        "# # DataLoader setup\n",
        "# train_loader = DataLoader(adversarial_train_dataset, batch_size=64, shuffle=True)\n",
        "# test_loader = DataLoader(adversarial_test_dataset, batch_size=1000, shuffle=False)\n",
        "\n",
        "# criterion = nn.CrossEntropyLoss()\n",
        "# optimizer = optim.Adam(model.parameters(), lr=0.001)\n",
        "\n",
        "# num_epochs = 10\n",
        "# train_losses = []\n",
        "# train_accuracies = []\n",
        "# test_losses = []\n",
        "# test_accuracies = []\n",
        "# for epoch in range(num_epochs):\n",
        "#   print(\"Epoch %d/%d\" % (epoch+1, num_epochs))\n",
        "\n",
        "#   retrained_model.train()\n",
        "#   running_loss = 0.0\n",
        "#   correct = 0\n",
        "#   total = 0\n",
        "\n",
        "#   for batch_idx, (inputs, targets) in enumerate(train_loader):\n",
        "#       inputs, targets = inputs.to(device), targets.to(device)\n",
        "\n",
        "#       optimizer.zero_grad()\n",
        "\n",
        "#       outputs = retrained_model(inputs)\n",
        "#       loss = criterion(outputs, targets)\n",
        "\n",
        "#       loss.backward()\n",
        "#       optimizer.step()\n",
        "\n",
        "#       running_loss += loss.item()\n",
        "#       _, predicted = outputs.max(1)\n",
        "#       total += targets.size(0)\n",
        "#       correct += predicted.eq(targets).sum().item()\n",
        "\n",
        "#   train_loss = running_loss / len(train_loader)\n",
        "#   train_accuracy = 100. * correct / total\n",
        "#   train_losses.append(train_loss)\n",
        "#   train_accuracies.append(train_accuracy)\n",
        "#   print(f'Train Loss: {train_loss:.4f}, Train Accuracy: {train_accuracy:.2f}%')\n",
        "\n",
        "#   retrained_model.eval()\n",
        "#   test_loss = 0\n",
        "#   correct = 0\n",
        "#   total = 0\n",
        "\n",
        "#   with torch.no_grad():\n",
        "#       for inputs, targets in test_loader:\n",
        "#           inputs, targets = inputs.to(device), targets.to(device)\n",
        "\n",
        "#           outputs = retrained_model(inputs)\n",
        "#           loss = criterion(outputs, targets)\n",
        "#           test_loss += loss.item()\n",
        "\n",
        "#           _, predicted = outputs.max(1)\n",
        "#           total += targets.size(0)\n",
        "#           correct += predicted.eq(targets).sum().item()\n",
        "\n",
        "#   test_loss /= len(test_loader)\n",
        "#   test_accuracy = 100. * correct / total\n",
        "#   test_losses.append(test_loss)\n",
        "#   test_accuracies.append(test_accuracy)\n",
        "#   print(f'Test Loss: {test_loss:.4f}, Test Accuracy: {test_accuracy:.2f}%')\n",
        "\n",
        "#   # save model for each epoch\n",
        "#   # model_path_temp = f'./model_epoch_{epoch+1}.pth'\n",
        "#   # torch.save(retrained_model.state_dict(), model_path_temp)\n",
        "\n",
        "# torch.save(retrained_model.state_dict(), retrained_model_path)"
      ]
    },
    {
      "cell_type": "markdown",
      "metadata": {
        "id": "b5KpnmwiFTNu"
      },
      "source": [
        "<!-- END QUESTION -->\n",
        "\n",
        "## References\n",
        "<div><img src=\"https://github.com/LukasZhornyak/CIS680_files/raw/main/HW1/images/refs.png\"/, width=600\n",
        "         ></div>"
      ]
    },
    {
      "cell_type": "markdown",
      "metadata": {
        "id": "9S1HDcTOFTNu"
      },
      "source": [
        "\n",
        "## Submission\n",
        "\n",
        "Make sure you have run all cells in your notebook in order before you zip together your submission, so that all images/graphs appear in the output.\n",
        "\n",
        "Please submit a pdf file alongside with the notebook, in colab, you can use \"File -> Print (Ctrl+P)\".\n",
        "\n",
        "For part (b), your submission should consist of two files: this notebook and the saved weights from question 3. There is no need to upload the new, retrained, weights.\n",
        "\n",
        "Please do not run the training loop in gradescope submission.\n",
        "\n",
        "**Please save before exporting!**"
      ]
    },
    {
      "cell_type": "code",
      "execution_count": null,
      "metadata": {
        "id": "bqsXk4h1Nosk"
      },
      "outputs": [],
      "source": []
    }
  ],
  "metadata": {
    "colab": {
      "provenance": []
    },
    "kernelspec": {
      "display_name": "Python 3",
      "language": "python",
      "name": "python3"
    },
    "language_info": {
      "codemirror_mode": {
        "name": "ipython",
        "version": 3
      },
      "file_extension": ".py",
      "mimetype": "text/x-python",
      "name": "python",
      "nbconvert_exporter": "python",
      "pygments_lexer": "ipython3",
      "version": "3.8.8"
    }
  },
  "nbformat": 4,
  "nbformat_minor": 0
}
